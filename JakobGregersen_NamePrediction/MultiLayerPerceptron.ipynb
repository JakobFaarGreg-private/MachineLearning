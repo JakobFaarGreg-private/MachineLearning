{
 "cells": [
  {
   "cell_type": "code",
   "execution_count": 1,
   "id": "a0491988",
   "metadata": {},
   "outputs": [],
   "source": [
    "import pandas as pd\n",
    "import numpy as np\n",
    "from nameToBin import doubleNameToBinaryNodes\n",
    "from sklearn.neural_network import MLPRegressor\n",
    "from sklearn.model_selection import train_test_split"
   ]
  },
  {
   "cell_type": "code",
   "execution_count": 2,
   "id": "2820cee4",
   "metadata": {},
   "outputs": [],
   "source": [
    "# Load data\n",
    "name_data = pd.read_csv(\"data.csv\")"
   ]
  },
  {
   "cell_type": "code",
   "execution_count": 3,
   "id": "1d90f59d",
   "metadata": {},
   "outputs": [],
   "source": [
    "# Divide data into X (input) and y (output) -- and make them arrays.\n",
    "X = name_data.drop(columns=[\"Score\"])\n",
    "y = name_data[\"Score\"]"
   ]
  },
  {
   "cell_type": "code",
   "execution_count": 4,
   "id": "5fc2e596",
   "metadata": {},
   "outputs": [],
   "source": [
    "# The setup for the ML\n",
    "clf = MLPRegressor(solver='sgd', alpha=0.00001, hidden_layer_sizes=(500,200), random_state=1, max_iter=2000000)"
   ]
  },
  {
   "cell_type": "code",
   "execution_count": 9,
   "id": "64cc01b6",
   "metadata": {},
   "outputs": [
    {
     "data": {
      "text/plain": [
       "-0.8097064286389828"
      ]
     },
     "execution_count": 9,
     "metadata": {},
     "output_type": "execute_result"
    }
   ],
   "source": [
    "X_train, X_test, y_train, y_test = train_test_split(X, y, test_size=0.2)\n",
    "clf.fit(X_train, y_train)\n",
    "clf.score(X_test, y_test)"
   ]
  },
  {
   "cell_type": "code",
   "execution_count": 10,
   "id": "c9f5140a",
   "metadata": {},
   "outputs": [
    {
     "data": {
      "text/plain": [
       "array([5.0066584])"
      ]
     },
     "execution_count": 10,
     "metadata": {},
     "output_type": "execute_result"
    }
   ],
   "source": [
    "# To test a name on the model, replace the name in the actual parameter.\n",
    "name_to_test = doubleNameToBinaryNodes(\"Bo Immanuel\")\n",
    "clf.predict([name_to_test])"
   ]
  }
 ],
 "metadata": {
  "kernelspec": {
   "display_name": "Python 3 (ipykernel)",
   "language": "python",
   "name": "python3"
  },
  "language_info": {
   "codemirror_mode": {
    "name": "ipython",
    "version": 3
   },
   "file_extension": ".py",
   "mimetype": "text/x-python",
   "name": "python",
   "nbconvert_exporter": "python",
   "pygments_lexer": "ipython3",
   "version": "3.9.7"
  }
 },
 "nbformat": 4,
 "nbformat_minor": 5
}
